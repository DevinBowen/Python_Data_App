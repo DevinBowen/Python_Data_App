{
 "cells": [
  {
   "cell_type": "code",
   "execution_count": 1,
   "id": "f8ea8655",
   "metadata": {},
   "outputs": [],
   "source": [
    "import tkinter as tk\n",
    "from tkinter import ttk\n",
    "from tkinter import *\n",
    "from tkinter import filedialog as fd\n",
    "from tkinter.messagebox import showinfo\n",
    "from matplotlib.backends.backend_tkagg import FigureCanvasTkAgg\n",
    "import pandas as pd\n",
    "import matplotlib.pyplot as plt\n",
    "from matplotlib.figure import Figure\n",
    "from matplotlib.backends.backend_tkagg import (FigureCanvasTkAgg, \n",
    "NavigationToolbar2Tk)\n",
    "from datetime import datetime\n",
    "import time\n",
    "#from pylab import *\n",
    "import numpy as np\n",
    "import datetime\n",
    "import csv"
   ]
  },
  {
   "cell_type": "code",
   "execution_count": 2,
   "id": "b3ce10e0",
   "metadata": {},
   "outputs": [],
   "source": [
    "df = pd.read_csv('Dataset/20200118/310/summary.csv')"
   ]
  },
  {
   "cell_type": "code",
   "execution_count": 3,
   "id": "3efa7bf2",
   "metadata": {},
   "outputs": [
    {
     "name": "stdout",
     "output_type": "stream",
     "text": [
      "<class 'pandas.core.frame.DataFrame'>\n",
      "RangeIndex: 1404 entries, 0 to 1403\n",
      "Data columns (total 10 columns):\n",
      " #   Column                Non-Null Count  Dtype  \n",
      "---  ------                --------------  -----  \n",
      " 0   Datetime (UTC)        1404 non-null   object \n",
      " 1   Timezone (minutes)    1404 non-null   int64  \n",
      " 2   Unix Timestamp (UTC)  1404 non-null   int64  \n",
      " 3   Acc magnitude avg     1404 non-null   float64\n",
      " 4   Eda avg               1404 non-null   float64\n",
      " 5   Temp avg              1404 non-null   float64\n",
      " 6   Movement intensity    1404 non-null   int64  \n",
      " 7   Steps count           1404 non-null   int64  \n",
      " 8   Rest                  1404 non-null   int64  \n",
      " 9   On Wrist              1404 non-null   bool   \n",
      "dtypes: bool(1), float64(3), int64(5), object(1)\n",
      "memory usage: 100.2+ KB\n"
     ]
    }
   ],
   "source": [
    "df.info()"
   ]
  },
  {
   "cell_type": "code",
   "execution_count": 4,
   "id": "842a7e55",
   "metadata": {},
   "outputs": [
    {
     "data": {
      "text/plain": [
       "0    2020-01-17T23:48:00Z\n",
       "1    2020-01-17T23:49:00Z\n",
       "2    2020-01-17T23:50:00Z\n",
       "3    2020-01-17T23:51:00Z\n",
       "4    2020-01-17T23:52:00Z\n",
       "Name: Datetime (UTC), dtype: object"
      ]
     },
     "execution_count": 4,
     "metadata": {},
     "output_type": "execute_result"
    }
   ],
   "source": [
    "df[\"Datetime (UTC)\"].head(5)"
   ]
  },
  {
   "cell_type": "code",
   "execution_count": 5,
   "id": "cabd597a",
   "metadata": {},
   "outputs": [
    {
     "data": {
      "text/plain": [
       "Datetime (UTC)           object\n",
       "Timezone (minutes)        int64\n",
       "Unix Timestamp (UTC)      int64\n",
       "Acc magnitude avg       float64\n",
       "Eda avg                 float64\n",
       "Temp avg                float64\n",
       "Movement intensity        int64\n",
       "Steps count               int64\n",
       "Rest                      int64\n",
       "On Wrist                   bool\n",
       "dtype: object"
      ]
     },
     "execution_count": 5,
     "metadata": {},
     "output_type": "execute_result"
    }
   ],
   "source": [
    "# time = df[\"Datetime (UTC)\"]\n",
    "# time.tzinfo\n",
    "df.dtypes"
   ]
  },
  {
   "cell_type": "code",
   "execution_count": 6,
   "id": "e49b6f7c",
   "metadata": {
    "scrolled": true
   },
   "outputs": [
    {
     "data": {
      "text/plain": [
       "pandas.core.series.Series"
      ]
     },
     "execution_count": 6,
     "metadata": {},
     "output_type": "execute_result"
    }
   ],
   "source": [
    "type(df['Datetime (UTC)'])"
   ]
  },
  {
   "cell_type": "code",
   "execution_count": 7,
   "id": "91e898c2",
   "metadata": {
    "scrolled": true
   },
   "outputs": [],
   "source": [
    "#df['Date'] = pd.to_datetime(df['Datetime (UTC)'], format='%Y-%m-%dT%XZ')\n",
    "df['Date'] = pd.to_datetime(df['Datetime (UTC)'], format='%Y-%m-%dT%Xz')"
   ]
  },
  {
   "cell_type": "code",
   "execution_count": 8,
   "id": "a5c33b18",
   "metadata": {
    "scrolled": false
   },
   "outputs": [
    {
     "data": {
      "text/html": [
       "<div>\n",
       "<style scoped>\n",
       "    .dataframe tbody tr th:only-of-type {\n",
       "        vertical-align: middle;\n",
       "    }\n",
       "\n",
       "    .dataframe tbody tr th {\n",
       "        vertical-align: top;\n",
       "    }\n",
       "\n",
       "    .dataframe thead th {\n",
       "        text-align: right;\n",
       "    }\n",
       "</style>\n",
       "<table border=\"1\" class=\"dataframe\">\n",
       "  <thead>\n",
       "    <tr style=\"text-align: right;\">\n",
       "      <th></th>\n",
       "      <th>Datetime (UTC)</th>\n",
       "      <th>Timezone (minutes)</th>\n",
       "      <th>Unix Timestamp (UTC)</th>\n",
       "      <th>Acc magnitude avg</th>\n",
       "      <th>Eda avg</th>\n",
       "      <th>Temp avg</th>\n",
       "      <th>Movement intensity</th>\n",
       "      <th>Steps count</th>\n",
       "      <th>Rest</th>\n",
       "      <th>On Wrist</th>\n",
       "      <th>Date</th>\n",
       "    </tr>\n",
       "  </thead>\n",
       "  <tbody>\n",
       "    <tr>\n",
       "      <th>0</th>\n",
       "      <td>2020-01-17T23:48:00Z</td>\n",
       "      <td>-300</td>\n",
       "      <td>1579304880000</td>\n",
       "      <td>1.063262</td>\n",
       "      <td>0.541921</td>\n",
       "      <td>30.155257</td>\n",
       "      <td>0</td>\n",
       "      <td>0</td>\n",
       "      <td>0</td>\n",
       "      <td>True</td>\n",
       "      <td>2020-01-17 23:48:00</td>\n",
       "    </tr>\n",
       "    <tr>\n",
       "      <th>1</th>\n",
       "      <td>2020-01-17T23:49:00Z</td>\n",
       "      <td>-300</td>\n",
       "      <td>1579304940000</td>\n",
       "      <td>1.005967</td>\n",
       "      <td>0.539037</td>\n",
       "      <td>29.979900</td>\n",
       "      <td>0</td>\n",
       "      <td>0</td>\n",
       "      <td>0</td>\n",
       "      <td>True</td>\n",
       "      <td>2020-01-17 23:49:00</td>\n",
       "    </tr>\n",
       "    <tr>\n",
       "      <th>2</th>\n",
       "      <td>2020-01-17T23:50:00Z</td>\n",
       "      <td>-300</td>\n",
       "      <td>1579305000000</td>\n",
       "      <td>1.045804</td>\n",
       "      <td>0.535254</td>\n",
       "      <td>29.713417</td>\n",
       "      <td>0</td>\n",
       "      <td>0</td>\n",
       "      <td>0</td>\n",
       "      <td>True</td>\n",
       "      <td>2020-01-17 23:50:00</td>\n",
       "    </tr>\n",
       "    <tr>\n",
       "      <th>3</th>\n",
       "      <td>2020-01-17T23:51:00Z</td>\n",
       "      <td>-300</td>\n",
       "      <td>1579305060000</td>\n",
       "      <td>1.017389</td>\n",
       "      <td>0.532977</td>\n",
       "      <td>29.416833</td>\n",
       "      <td>0</td>\n",
       "      <td>0</td>\n",
       "      <td>0</td>\n",
       "      <td>True</td>\n",
       "      <td>2020-01-17 23:51:00</td>\n",
       "    </tr>\n",
       "    <tr>\n",
       "      <th>4</th>\n",
       "      <td>2020-01-17T23:52:00Z</td>\n",
       "      <td>-300</td>\n",
       "      <td>1579305120000</td>\n",
       "      <td>1.030430</td>\n",
       "      <td>0.532688</td>\n",
       "      <td>29.275200</td>\n",
       "      <td>0</td>\n",
       "      <td>0</td>\n",
       "      <td>0</td>\n",
       "      <td>True</td>\n",
       "      <td>2020-01-17 23:52:00</td>\n",
       "    </tr>\n",
       "  </tbody>\n",
       "</table>\n",
       "</div>"
      ],
      "text/plain": [
       "         Datetime (UTC)  Timezone (minutes)  Unix Timestamp (UTC)  \\\n",
       "0  2020-01-17T23:48:00Z                -300         1579304880000   \n",
       "1  2020-01-17T23:49:00Z                -300         1579304940000   \n",
       "2  2020-01-17T23:50:00Z                -300         1579305000000   \n",
       "3  2020-01-17T23:51:00Z                -300         1579305060000   \n",
       "4  2020-01-17T23:52:00Z                -300         1579305120000   \n",
       "\n",
       "   Acc magnitude avg   Eda avg   Temp avg  Movement intensity  Steps count  \\\n",
       "0           1.063262  0.541921  30.155257                   0            0   \n",
       "1           1.005967  0.539037  29.979900                   0            0   \n",
       "2           1.045804  0.535254  29.713417                   0            0   \n",
       "3           1.017389  0.532977  29.416833                   0            0   \n",
       "4           1.030430  0.532688  29.275200                   0            0   \n",
       "\n",
       "   Rest  On Wrist                Date  \n",
       "0     0      True 2020-01-17 23:48:00  \n",
       "1     0      True 2020-01-17 23:49:00  \n",
       "2     0      True 2020-01-17 23:50:00  \n",
       "3     0      True 2020-01-17 23:51:00  \n",
       "4     0      True 2020-01-17 23:52:00  "
      ]
     },
     "execution_count": 8,
     "metadata": {},
     "output_type": "execute_result"
    }
   ],
   "source": [
    "df.head()"
   ]
  },
  {
   "cell_type": "code",
   "execution_count": 9,
   "id": "173b8a6e",
   "metadata": {
    "scrolled": true
   },
   "outputs": [],
   "source": [
    "df['Date'].dt.time\n",
    "df['Time'] = df['Date'].dt.time\n",
    "df['Month'] = df['Date'].dt.month"
   ]
  },
  {
   "cell_type": "code",
   "execution_count": 10,
   "id": "aa6de357",
   "metadata": {
    "scrolled": true
   },
   "outputs": [
    {
     "data": {
      "text/plain": [
       "0    2020-01-17T23:48:00Z\n",
       "1    2020-01-17T23:49:00Z\n",
       "2    2020-01-17T23:50:00Z\n",
       "3    2020-01-17T23:51:00Z\n",
       "4    2020-01-17T23:52:00Z\n",
       "Name: Datetime (UTC), dtype: object"
      ]
     },
     "execution_count": 10,
     "metadata": {},
     "output_type": "execute_result"
    }
   ],
   "source": [
    "df['Datetime (UTC)'].head()"
   ]
  },
  {
   "cell_type": "code",
   "execution_count": 13,
   "id": "d19283c8",
   "metadata": {},
   "outputs": [
    {
     "name": "stdout",
     "output_type": "stream",
     "text": [
      "You selected: UTC\n"
     ]
    },
    {
     "name": "stderr",
     "output_type": "stream",
     "text": [
      "Exception in Tkinter callback\n",
      "Traceback (most recent call last):\n",
      "  File \"C:\\Users\\sydne\\anaconda3\\lib\\tkinter\\__init__.py\", line 1921, in __call__\n",
      "    return self.func(*args)\n",
      "  File \"C:\\Users\\sydne\\AppData\\Local\\Temp\\ipykernel_18424\\3961554544.py\", line 88, in plot\n",
      "    toolbar.pack(anchor=\"w\", fill=tk.X)\n",
      "  File \"C:\\Users\\sydne\\anaconda3\\lib\\tkinter\\__init__.py\", line 2425, in pack_configure\n",
      "    self.tk.call(\n",
      "_tkinter.TclError: cannot use geometry manager pack inside .!frame.!graph.!labelframe which already has slaves managed by grid\n"
     ]
    },
    {
     "name": "stdout",
     "output_type": "stream",
     "text": [
      "You selected: Local Time\n"
     ]
    },
    {
     "data": {
      "image/png": "[encoded data removed]",
      "text/plain": [
       "<Figure size 1200x600 with 1 Axes>"
      ]
     },
     "metadata": {},
     "output_type": "display_data"
    }
   ],
   "source": [
    "df['Time'] = df['Time'].astype(str)\n",
    "x = df['Date']\n",
    "y = df['Eda avg']\n",
    "\n",
    "def select_file():\n",
    "    filetypes = (\n",
    "        ('text files', '*.txt'),\n",
    "        ('All files', '*.*')\n",
    "    )\n",
    "    filename = fd.askopenfilename(\n",
    "        title='Open a file',\n",
    "        initialdir='/',\n",
    "        filetypes=filetypes)\n",
    "    # showinfo(\n",
    "    #     title='Selected File',\n",
    "    #     message=filename\n",
    "    # )\n",
    "\n",
    "\n",
    "class Graphy(tk.Tk):\n",
    "    def __init__(self, *args, **kwargs):\n",
    "        super().__init__(*args, **kwargs)\n",
    "\n",
    "        self.title(\"Graphy\")\n",
    "        self.frames = dict()\n",
    "\n",
    "        container = ttk.Frame(self)\n",
    "        container.grid(padx=60, pady=30, sticky=\"EW\")\n",
    "\n",
    "        for FrameClass in (Graph, Chart):\n",
    "            frame = FrameClass(container, self)\n",
    "            self.frames[FrameClass] = frame\n",
    "            frame.grid(row=0, column=0, sticky=\"NSEW\")\n",
    "\n",
    "        self.show_frame(Graph)\n",
    "\n",
    "    def show_frame(self, container):\n",
    "        frame = self.frames[container]\n",
    "        frame.tkraise()\n",
    "\n",
    "\n",
    "class Graph(ttk.Frame):\n",
    "    def __init__(self, container, controller):\n",
    "        super().__init__(container)\n",
    "\n",
    "        frame = LabelFrame(self, padx=50, pady=50)\n",
    "        frame.grid(padx=10, pady=10)\n",
    "\n",
    "        def plot():\n",
    "            #pylab.rcParams['xtick.major.pad']= '25'\n",
    "            \n",
    "            fig = Figure(figsize = (12, 6), dpi = 200)\n",
    "\n",
    "            #plt.rc_context({'xtick.major.pad':10})\n",
    "            \n",
    "            # adding the subplot\n",
    "            fig,axes = plt.subplots(1,1, figsize=(12, 6)) #add_subplots(111)\n",
    "            axes.clear()\n",
    "            \n",
    "            #axes.tick_params(axis='x', which='major', pad=50)\n",
    "            \n",
    "            #axes.plot(x,y)\n",
    "            \n",
    "            fig.autofmt_xdate()\n",
    "            #axes.plot(x,y)\n",
    "            df.groupby('Time').max()['Steps count'].plot()\n",
    "            plt.tight_layout()\n",
    "            \n",
    "            # plotting the graph\n",
    "            plt.setp(axes.get_xticklabels(), rotation=30, horizontalalignment='right')\n",
    "            #axes.xaxis.set_tick_params(padx=100)\n",
    "            fig.tight_layout()\n",
    "\n",
    "            #fig = sns.lineplot(df, x=X, y=Y)\n",
    "\n",
    "\n",
    "            # creating the Tkinter canvas\n",
    "            # containing the Matplotlib figure\n",
    "\n",
    "            canvas = FigureCanvasTkAgg(fig, frame)  \n",
    "            canvas.draw()\n",
    "            canvas.get_tk_widget().grid(row=1, sticky=\"EW\")\n",
    "\n",
    "            # !!!Not Working!!!\n",
    "            # creating the Matplotlib toolbar\n",
    "            toolbar = NavigationToolbar2Tk(canvas, frame, pack_toolbar=False)\n",
    "            toolbar.update()\n",
    "            toolbar.pack(anchor=\"w\", fill=tk.X)\n",
    "            # canvas.get_tk_widget().pack()\n",
    "\n",
    "        plot_button = Button(frame, text=\"Graph\", command = plot, height = 2, width = 10)\n",
    "        plot_button.grid(row=0, column=0)\n",
    "        switch_page_button = Button(\n",
    "            self,\n",
    "            text=\"Switch to Chart\",\n",
    "            command=lambda: controller.show_frame(Chart)\n",
    "        )\n",
    "        switch_page_button.grid(column=0, row=1, columnspan=2, sticky=\"EW\")\n",
    "        \n",
    "        #COMBO BOX\n",
    "        time_values = ('UTC', 'Local Time')\n",
    "        time_string = tk.StringVar(value=time_values[0])\n",
    "        combo = ttk.Combobox(frame, textvariable=time_string)\n",
    "        combo['values'] = time_values\n",
    "        combo.grid(row=0, column=1)\n",
    "        \n",
    "        def option_selected(event):\n",
    "            selected_option = combo.get()\n",
    "            print(\"You selected:\", selected_option)\n",
    "            if selected_option == 'UTC':\n",
    "                x = df['Time']\n",
    "        \n",
    "        combo.bind(\"<<ComboboxSelected>>\", option_selected)\n",
    "        \n",
    "\n",
    "\n",
    "class Chart(ttk.Frame):\n",
    "    def __init__(self, container, controller):\n",
    "        super().__init__(container)\n",
    "\n",
    "        frame = LabelFrame(self, padx=50, pady=50)\n",
    "        frame.grid(padx=10, pady=10)\n",
    "\n",
    "        b = Button(frame, text=\"Chart\")\n",
    "        b.grid(row=0, column=0)\n",
    "        \n",
    "         #Statistical Analysis\n",
    "        analyze = Button(frame, text=\"Analyze\")\n",
    "        analyze.grid(row=0, column=1)\n",
    "        \n",
    "        def analyze_data(event):\n",
    "            #analyze_text = df.describe()\n",
    "            canvas = Canvas(width=1000, height=750)\n",
    "            canvas.create_text(550, 350, text=df.describe(), fill=\"black\", font=('Helvetica 12 bold'))\n",
    "            canvas.grid(row=0, column=0)\n",
    "            \n",
    "        analyze.bind('<Button>', analyze_data)\n",
    "        # End of Statistical Analysis\n",
    "        \n",
    "        switch_page_button = Button(\n",
    "            self,\n",
    "            text=\"Switch to Graph\",\n",
    "            command=lambda: controller.show_frame(Graph)\n",
    "        )\n",
    "        switch_page_button.grid(column=0, row=2, columnspan=2, sticky=\"EW\")\n",
    "        \n",
    "        #Statistical Analysis\n",
    "#         analyze = Button(frame, text=\"Analyze\")\n",
    "#         analyze.grid(row=0, column=1)\n",
    "        \n",
    "#         def analyze_data(event):\n",
    "#             #analyze_text = df.describe()\n",
    "#             canvas = Canvas(width=1000, height=750)\n",
    "#             canvas.create_text(550, 350, text=df.describe(), fill=\"black\", font=('Helvetica 12 bold'))\n",
    "#             canvas.grid(row=0, column=0)\n",
    "            \n",
    "#         analyze.bind('<Button>', analyze_data)\n",
    "        \n",
    "        \n",
    "\n",
    "\n",
    "root = Graphy()\n",
    "root.state('zoomed') #will take up the whole screen.\n",
    "root.mainloop()"
   ]
  },
  {
   "cell_type": "code",
   "execution_count": 12,
   "id": "49e06bf6",
   "metadata": {},
   "outputs": [
    {
     "data": {
      "text/plain": [
       "'23:59:00'"
      ]
     },
     "execution_count": 12,
     "metadata": {},
     "output_type": "execute_result"
    }
   ],
   "source": [
    "df['Time'].max()"
   ]
  },
  {
   "cell_type": "code",
   "execution_count": null,
   "id": "066718b8",
   "metadata": {
    "scrolled": true
   },
   "outputs": [],
   "source": []
  },
  {
   "cell_type": "code",
   "execution_count": 25,
   "id": "eac2faa3",
   "metadata": {},
   "outputs": [
    {
     "ename": "AttributeError",
     "evalue": "'Series' object has no attribute 'hour'",
     "output_type": "error",
     "traceback": [
      "\u001b[1;31m---------------------------------------------------------------------------\u001b[0m",
      "\u001b[1;31mAttributeError\u001b[0m                            Traceback (most recent call last)",
      "Cell \u001b[1;32mIn[25], line 2\u001b[0m\n\u001b[0;32m      1\u001b[0m time \u001b[38;5;241m=\u001b[39m df[\u001b[38;5;124m\"\u001b[39m\u001b[38;5;124mDatetime (UTC)\u001b[39m\u001b[38;5;124m\"\u001b[39m]\n\u001b[1;32m----> 2\u001b[0m \u001b[43mtime\u001b[49m\u001b[38;5;241;43m.\u001b[39;49m\u001b[43mhour\u001b[49m\n",
      "File \u001b[1;32m~\\anaconda3\\lib\\site-packages\\pandas\\core\\generic.py:5902\u001b[0m, in \u001b[0;36mNDFrame.__getattr__\u001b[1;34m(self, name)\u001b[0m\n\u001b[0;32m   5895\u001b[0m \u001b[38;5;28;01mif\u001b[39;00m (\n\u001b[0;32m   5896\u001b[0m     name \u001b[38;5;129;01mnot\u001b[39;00m \u001b[38;5;129;01min\u001b[39;00m \u001b[38;5;28mself\u001b[39m\u001b[38;5;241m.\u001b[39m_internal_names_set\n\u001b[0;32m   5897\u001b[0m     \u001b[38;5;129;01mand\u001b[39;00m name \u001b[38;5;129;01mnot\u001b[39;00m \u001b[38;5;129;01min\u001b[39;00m \u001b[38;5;28mself\u001b[39m\u001b[38;5;241m.\u001b[39m_metadata\n\u001b[0;32m   5898\u001b[0m     \u001b[38;5;129;01mand\u001b[39;00m name \u001b[38;5;129;01mnot\u001b[39;00m \u001b[38;5;129;01min\u001b[39;00m \u001b[38;5;28mself\u001b[39m\u001b[38;5;241m.\u001b[39m_accessors\n\u001b[0;32m   5899\u001b[0m     \u001b[38;5;129;01mand\u001b[39;00m \u001b[38;5;28mself\u001b[39m\u001b[38;5;241m.\u001b[39m_info_axis\u001b[38;5;241m.\u001b[39m_can_hold_identifiers_and_holds_name(name)\n\u001b[0;32m   5900\u001b[0m ):\n\u001b[0;32m   5901\u001b[0m     \u001b[38;5;28;01mreturn\u001b[39;00m \u001b[38;5;28mself\u001b[39m[name]\n\u001b[1;32m-> 5902\u001b[0m \u001b[38;5;28;01mreturn\u001b[39;00m \u001b[38;5;28;43mobject\u001b[39;49m\u001b[38;5;241;43m.\u001b[39;49m\u001b[38;5;21;43m__getattribute__\u001b[39;49m\u001b[43m(\u001b[49m\u001b[38;5;28;43mself\u001b[39;49m\u001b[43m,\u001b[49m\u001b[43m \u001b[49m\u001b[43mname\u001b[49m\u001b[43m)\u001b[49m\n",
      "\u001b[1;31mAttributeError\u001b[0m: 'Series' object has no attribute 'hour'"
     ]
    }
   ],
   "source": []
  },
  {
   "cell_type": "code",
   "execution_count": null,
   "id": "96d1d951",
   "metadata": {},
   "outputs": [],
   "source": []
  }
 ],
 "metadata": {
  "kernelspec": {
   "display_name": "Python 3 (ipykernel)",
   "language": "python",
   "name": "python3"
  },
  "language_info": {
   "codemirror_mode": {
    "name": "ipython",
    "version": 3
   },
   "file_extension": ".py",
   "mimetype": "text/x-python",
   "name": "python",
   "nbconvert_exporter": "python",
   "pygments_lexer": "ipython3",
   "version": "3.10.9"
  }
 },
 "nbformat": 4,
 "nbformat_minor": 5
}
